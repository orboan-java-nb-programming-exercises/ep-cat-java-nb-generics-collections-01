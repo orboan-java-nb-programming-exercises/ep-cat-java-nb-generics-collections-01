{
 "cells": [
  {
   "cell_type": "markdown",
   "metadata": {},
   "source": [
    "# Exercici pràctic Java - Generics i Collections - Carret de la compra"
   ]
  },
  {
   "cell_type": "markdown",
   "metadata": {},
   "source": [
    "En aquest exercici crearem un carret de la compra, en el qual hi podrem ficar productes. Dins del carret de la compra hi haurà una col·lecció de línies, contenint cadascuna la següent informació:\n",
    "\n",
    "Cada línia del carret de la compra contindrà informació del producte afegit al carret (identificador del producte, nom del producte i preu del producte), la quantitat que es vol d'aquell producte (per exemple, volem 10 plàtans), i el preu total (que és el preu del producte multiplicat per la quantitat d'aquell producte).\n",
    "\n",
    "Per exemple:\n",
    "```\n",
    "  ID -                      Name |    Price |   Amount | Total Price\n",
    "  p6 -    Data Science made easy |     39.5 |        2 |        79.0\n",
    "```\n",
    "\n",
    "Per a representar en codi Java una línia del carret, farem servir la classe ``Triplet``, que és una classe genèrica que haureu de definir.\n",
    "\n",
    "Cada producte pertany a una categoria de productes. Les categories es representen amb un ``enum``.\n",
    "\n",
    "En aquest exercici treballareu amb Generics, Collections (``List``, ``Set`` i ``Map``) i apendreu a usar la interfície ``Comparable`` per a ordenar els elements d'una ``Collection`` segons el criteri que ens demanin.\n",
    "\n",
    "Part del codi se us dóna fet (aquest codi no es pot modificar). **Cal que completeu el codi** que manca per tal de pode complir el que se us demani.\n",
    "\n"
   ]
  },
  {
   "cell_type": "markdown",
   "metadata": {},
   "source": [
    "# Primera part"
   ]
  },
  {
   "cell_type": "markdown",
   "metadata": {},
   "source": [
    "## Primer pas: declarem l'enum ``Category``\n",
    "\n",
    "Aquest primer pas ja se us dóna fet. Un enum és un tipus especial de classe (en Java) en el qual declarem **constants** amb majúscules, separades per comes. No cal indicar el tipus de dada ni posar cap modificador. Són variables públiques i final. Per a més informació sobre els enums podeu consultar a:\n",
    "\n",
    "[Java Enums](https://www.w3schools.com/java/java_enums.asp).\n",
    "\n",
    "Aquest enum representa les diferents categories de productes que hi ha a la nostra botiga online."
   ]
  },
  {
   "cell_type": "code",
   "execution_count": null,
   "metadata": {},
   "outputs": [],
   "source": [
    "enum Category {\n",
    "  BOOKS,\n",
    "  COMPUTERS,\n",
    "  FOOD\n",
    "}"
   ]
  },
  {
   "cell_type": "markdown",
   "metadata": {},
   "source": [
    "## Segons pas: definiu la classe ``Product``\n",
    "\n",
    "``Product`` ha de tenir quatre propietats:\n",
    "\n",
    "* -category: Category\n",
    "* -id: String\n",
    "* -name: String\n",
    "* -price: float\n",
    "\n",
    "Les dues primeres (category i id) són final.\n",
    "\n",
    "Heu de crear un constructor que doni valor a les propietats final.\n",
    "\n",
    "Heu de crear els getters i setters corresponents."
   ]
  },
  {
   "cell_type": "code",
   "execution_count": null,
   "metadata": {},
   "outputs": [],
   "source": [
    "class Product {\n",
    "    \n",
    "    //properties\n",
    "\n",
    "    //TODO\n",
    "    \n",
    "    //constructor\n",
    "\n",
    "    //TODO\n",
    "    \n",
    "    //setters\n",
    "\n",
    "    //TODO\n",
    "    \n",
    "    //getters\n",
    "\n",
    "    //TODO\n",
    "    \n",
    "    @Override\n",
    "    public String toString(){\n",
    "        String separator = \"|\";\n",
    "        return this.id + separator + this.name + separator +\n",
    "            (new Float(this.price)).toString();\n",
    "    }\n",
    "}"
   ]
  },
  {
   "cell_type": "markdown",
   "metadata": {},
   "source": [
    "## Tercer pas: creeu la classe genèrica ``Triplet``\n",
    "\n",
    "Usarem aquesta classe per a representar una línia del carret de la compra. Ha de tenir **tres tipus de dades genèrics** (T, T1 i T2).\n",
    "\n",
    "Els mètodes que cal sobreescriure ja se us donen fets. **No els podeu modificar**.\n",
    "\n",
    "Cal que afegiu les tres propietats i els corresponents getters i setters."
   ]
  },
  {
   "cell_type": "code",
   "execution_count": null,
   "metadata": {},
   "outputs": [],
   "source": [
    "class Triplet { //Modify accordingly\n",
    "    \n",
    "    //properties\n",
    "    //TODO\n",
    "    \n",
    "    //getters\n",
    "    //TODO\n",
    "    \n",
    "    //setters\n",
    "    //TODO\n",
    "    \n",
    "    @Override\n",
    "    public boolean equals(Object o) {\n",
    "\n",
    "        if (o == this) return true;\n",
    "        if (!(o instanceof Triplet)) {\n",
    "            return false;\n",
    "        }\n",
    "        Triplet triplet = (Triplet) o;\n",
    "        return Objects.equals(this.t, triplet.getT());\n",
    "    }\n",
    "\n",
    "    @Override\n",
    "    public int hashCode() {\n",
    "        return Objects.hash(this.t);\n",
    "    }\n",
    "    \n",
    "    @Override\n",
    "    public String toString(){\n",
    "        String separator = \"|\";\n",
    "        return t.toString() + separator + t1.toString() +\n",
    "            separator + t2.toString();\n",
    "    }\n",
    "}"
   ]
  },
  {
   "cell_type": "markdown",
   "metadata": {},
   "source": [
    "## Quart pas: completeu la classe ``Cart``\n",
    "\n",
    "Aquesta classe ha de tenir dues propietats privades:\n",
    "\n",
    "* -lines: Set<Triplet<...>>\n",
    "* -total: Float\n",
    "\n",
    "La propietat ``lines`` ha de ser _final_ i ha de referenciar, en el moment de la declaració, un nou objecte de tipus ``HashSet`` com a valor per defecte. Aquest ``HashSet`` contindrà totes les línies que el client ha afegit al carret. Cada línia ve representada per un ``Triplet``.\n",
    "\n",
    "La propietat ``total`` ha de guardar el preu total de tots els productes afegits al carret de la compra. Cal donar-li explícitament un valor per defecte de 0.0f, ja que les propietats no primitives (com és aquest cas, amb la classe ``Float``) a les quals no se les assigna un valor per defecte de forma explícita, tenen ``null`` com a valor per defecte (i.e. el programa podria _petar_ amb un ``NullPointerException``).\n",
    "\n",
    "La classe ``Cart`` ha d'implementar la interfície ``ICart``, que se us dóna feta a continuació. La interfície ``ICart`` no es pot modificar.\n",
    "\n",
    "Ara **no has de crear cap constructor** d'aquesta classe (ho faràs més endavant).\n",
    "\n",
    "**Consideracions a tenir en compte:**\n",
    "\n",
    "* En guardar les línies en un ``Set``, no podrem tenir línies repetides (un ``Set``no admet elements repetits).\n",
    "* Considerarem que **una línia és igual a una altra quan guardin el mateix producte**, independentment dels valors de les altres dues propietats (les que representen la quantitat d'unitats i el preu total). Així, un ``Triplet`` haurà de guardar un ``Product`` (primer element del tripet), un enter que indiqui quantes unitats del producte hi ha al carret (segon element del triplet), i un ``Float`` que indiqui el preu total de la línia (número d'unitats multiplicat pel preu del producte) (tercer element del triplet). \n",
    "* Per a testejar si una línia és igual que una altra, useu el mètode ``equals()``. \n",
    "* Per a testejar si un producte és igual que un altre, useu el mètode ``equals()``.\n",
    "* El mètode ``equals()`` s'hereda d'``Object`` i ja se us donen fetes les sobreescritures corresponents en cas que siguin necessàries.\n",
    "\n"
   ]
  },
  {
   "cell_type": "code",
   "execution_count": null,
   "metadata": {},
   "outputs": [],
   "source": [
    "interface ICart {\n",
    "    public boolean addProduct(Product product);\n",
    "    public boolean addProduct(Product product, int amount);\n",
    "    public void printCart();\n",
    "    \n",
    "}"
   ]
  },
  {
   "cell_type": "code",
   "execution_count": null,
   "metadata": {},
   "outputs": [],
   "source": [
    "import java.text.DecimalFormat;\n",
    "class Cart implements ICart{\n",
    "    //properties\n",
    "    //TODO\n",
    "        \n",
    "    //needed getters\n",
    "    //TODO\n",
    "\n",
    "    //Helper methods are private\n",
    "    private boolean updateLine(Triplet<Product,Integer,Float> line){\n",
    "        if(!lines.contains(line)) {\n",
    "            return false;\n",
    "        }\n",
    "        \n",
    "        //TODO\n",
    "        // Iterating over the property lines\n",
    "        // When line is found, update it        \n",
    "                   \n",
    "        return true;\n",
    "    } \n",
    "      \n",
    "    private boolean cartContains(Product product){\n",
    "        // Iterating over hash set items \n",
    "        // using a foreach (enhanced for loop)\n",
    "        for(Triplet<Product,Integer,Float> cline : lines){\n",
    "            if(cline.getT().equals(product)){\n",
    "                return true;\n",
    "            }\n",
    "        }\n",
    "        return false;\n",
    "    }\n",
    "     \n",
    "    \n",
    "    private void updateTotal(Triplet<Product,Integer,Float> line){\n",
    "        //TODO\n",
    "        //update the property total after adding the new line\n",
    "        //total keeps the total price of the cart\n",
    "    }\n",
    "    \n",
    "    //Public methods are interface implementations\n",
    "    /*\n",
    "    * Add an amount of units of the specified product into the cart\n",
    "    * \n",
    "    * @param  product  an instance of a product to be added to the cart\n",
    "    * @param amount  the number of units of the specified product to be added\n",
    "    * @return true if the product was successfully added, false otherwise\n",
    "    */\n",
    "    @Override\n",
    "    public boolean addProduct(Product product, int amount){\n",
    "        //TODO\n",
    "        //Create a Triplet from parameters\n",
    "        //id Cart contains the triplet, update the corresponding line\n",
    "        //otherwise, add the line to the cart (to the Set)\n",
    "        \n",
    "        return false; //modify accordingly\n",
    "    }\n",
    "    /*\n",
    "    * Add 1 single unit a the specified product into the cart\n",
    "    * \n",
    "    * @param  product  an instance of a product to be added to the cart\n",
    "    * @return true if the product was successfully added, false otherwise\n",
    "    */\n",
    "    @Override\n",
    "    public boolean addProduct(Product product) {\n",
    "        //TODO\n",
    "        //implementation for adding only 1 unit of the product\n",
    "        return false; //modify accordingly\n",
    "    }\n",
    "    @Override\n",
    "    public void printCart(){\n",
    "        if(lines instanceof HashSet) println(\"Lines is a HashSet\");\n",
    "        if(lines instanceof TreeSet) println(\"Lines is a TreeSet\");\n",
    "        String separator = \"\\\\|\";\n",
    "        System.out.printf(\"%6s - %25s | %8s | %8s | %14s\\n\", \"ID\", \"Name\", \n",
    "                            \"Price\", \"Amount\", \"Total Price (€)\");\n",
    "        for(Triplet<Product,Integer,Float> line: lines){\n",
    "            //Position 0 contains ID Product as String\n",
    "            //Position 1 contains product name as String\n",
    "            //Position 2 contains product price (per unit) as String\n",
    "            //Position 3 contains Integer (amount) as String\n",
    "            //Position 4 contains Float (total price) as String\n",
    "            String[] lineArr = line.toString().split(separator);\n",
    "            \n",
    "            System.out.format(\"%6s - %25s | %8s | %8s | %14s\\n\", lineArr[0], lineArr[1], \n",
    "                                 lineArr[2], lineArr[3], lineArr[4]);              \n",
    "        }        \n",
    "        DecimalFormat df = new DecimalFormat(\"#.##\");\n",
    "        df.setRoundingMode(RoundingMode.CEILING);\n",
    "        System.out.format(\"%63s %8s€\", \"Total de la comanda:\", df.format(this.total));\n",
    "    }\n",
    "}"
   ]
  },
  {
   "cell_type": "markdown",
   "metadata": {},
   "source": [
    "## Cinquè pas: comproveu que funciona\n",
    "\n",
    "Creem uns quants _products_ i els afegim al carret de la compra. Un cop afegits, imprimim el carret de la compra i el resultat ha de ser el que se suposa que ha de ser un cop afegits els productes."
   ]
  },
  {
   "cell_type": "markdown",
   "metadata": {},
   "source": [
    "#### Creació de productes:"
   ]
  },
  {
   "cell_type": "code",
   "execution_count": null,
   "metadata": {},
   "outputs": [],
   "source": [
    "Product p1 = new Product(\"p1\", Category.COMPUTERS);\n",
    "p1.setName(\"Laptop\");\n",
    "p1.setPrice(305.0f);\n",
    "\n",
    "Product p2 = new Product(\"p2\", Category.FOOD);\n",
    "p2.setName(\"Banana\");\n",
    "p2.setPrice(0.20f);\n",
    "\n",
    "Product p3 = new Product(\"p3\", Category.BOOKS);\n",
    "p3.setName(\"Learn Java\");\n",
    "p3.setPrice(33.9f);\n",
    "\n",
    "Product p4 = new Product(\"p4\", Category.COMPUTERS);\n",
    "p4.setName(\"RAM 32Gb\");\n",
    "p4.setPrice(110.6f);\n",
    "\n",
    "Product p5 = new Product(\"p5\", Category.FOOD);\n",
    "p5.setName(\"Canneloni\");\n",
    "p5.setPrice(7.0f);\n",
    "\n",
    "Product p6 = new Product(\"p6\", Category.BOOKS);\n",
    "p6.setName(\"Data Science made easy\");\n",
    "p6.setPrice(39.5f);\n",
    "\n"
   ]
  },
  {
   "cell_type": "markdown",
   "metadata": {},
   "source": [
    "#### Creem un carret i afegim els productes, en quantitats diferents:"
   ]
  },
  {
   "cell_type": "code",
   "execution_count": null,
   "metadata": {},
   "outputs": [],
   "source": [
    "ICart fillCart(ICart cart){    \n",
    "    cart.addProduct(p2); //Afegim una unitat del producte p2\n",
    "    cart.addProduct(p2,6); //Afegim 6 unitats del producte p2\n",
    "    cart.addProduct(p2,10); //Afegim 10 unitats del producte p2\n",
    "    cart.addProduct(p4,2); //Afegim 2 unitats del producte p4\n",
    "    cart.addProduct(p1); //Afegim una unitat del producte p1\n",
    "    cart.addProduct(p3,2); //Afegim 2 unitats del producte p3\n",
    "    cart.addProduct(p5,3); //Afegim 3 unitats del producte p5\n",
    "    cart.addProduct(p6); //Afegim una unitat del producte p6\n",
    "    cart.addProduct(p6); //Afegim una unitat del producte p6\n",
    "    return cart;\n",
    "}"
   ]
  },
  {
   "cell_type": "code",
   "execution_count": null,
   "metadata": {},
   "outputs": [],
   "source": [
    "Cart cart = fillCart(new Cart());"
   ]
  },
  {
   "cell_type": "markdown",
   "metadata": {},
   "source": [
    "En la següent cel·la, descomenteu la crida al mètode ``printCart()`` i executeu-la. Us hauria d'imprimir:\n",
    "\n",
    "```\n",
    "ID -                      Name |    Price |   Amount | Total Price (€)\n",
    "p6 -    Data Science made easy |     39.5 |        2 |           79.0\n",
    "p2 -                    Banana |      0.2 |       17 |            3.4\n",
    "p3 -                Learn Java |     33.9 |        2 |           67.8\n",
    "p4 -                  RAM 32Gb |    110.6 |        2 |          221.2\n",
    "p1 -                    Laptop |    305.0 |        1 |          305.0\n",
    "p5 -                 Canneloni |      7.0 |        3 |           21.0\n",
    "                                       Total de la comanda:    697.4€\n",
    "```\n",
    "\n",
    "**Nota**: pot sortir en qualsevol ordre, doncs un ``Set`` (en la implementació ``HashSet``) és una ``Collection`` no ordenada."
   ]
  },
  {
   "cell_type": "code",
   "execution_count": null,
   "metadata": {},
   "outputs": [],
   "source": [
    "// cart.printCart(); //les línies us poden sortir en un ordre diferent"
   ]
  },
  {
   "cell_type": "markdown",
   "metadata": {},
   "source": [
    "# Segona part"
   ]
  },
  {
   "cell_type": "markdown",
   "metadata": {},
   "source": [
    "Ja has vist que el carret de la compra, un cop imprimit, pot mostrar les línies **en un ordre no predeterminat**, ja que la classe ``Cart`` usa un ``HashSet`` i aquesta és una implementació de la interfície ``Set`` que **no manté cap ordre** en els seus elements.\n",
    "\n",
    "\n",
    "En aquesta segona part canviarem aquest comportament i farem que **les línies del carret de la compra es mostrin sempre en un ordre predeterminat**, que haurem de programar."
   ]
  },
  {
   "cell_type": "markdown",
   "metadata": {},
   "source": [
    "## Sisè pas: usem _Dependency Injection_ per a determinar la implementació del ``Set`` a la classe ``Cart``\n",
    "\n",
    "* Heu de modificar **lleugerament** la classe ``Cart``: enlloc d'assignar explícitament un valor per defecte a la propietat _lines_ en el moment de la declaració de la variable (és a dir, un nou objecte de tipus ``HashSet``), ara deixarem aquesta variable sense assignació i crearem dos constructors:\n",
    "    * Un constructor sense paràmetres, que li assignarà com a valor per defecte a _lines_ un objecte de tipus ``HashSet``\n",
    "    * Un constructor amb 1 sol paràmetre, de tipus ``Set``, que servirà per a assignar-li un valor a la propietat _lines_. Amb aquest constructor, diem que estem _**injectant**_ el tipus d'implementació en temps de creació de l'objecte.\n",
    "\n",
    "Reescriu la classe ``Cart`` a continuació:"
   ]
  },
  {
   "cell_type": "code",
   "execution_count": null,
   "metadata": {},
   "outputs": [],
   "source": [
    "import java.text.DecimalFormat;\n",
    "\n",
    "//Classe Cart modificada, amb Dependency Injection (DI)\n",
    "class Cart implements ICart{\n",
    "    \n",
    "    //properties: modify the lines property (remove the assignation)\n",
    "    //TODO\n",
    "    \n",
    "    //constructors\n",
    "    //TODO\n",
    "    \n",
    "    \n",
    "    //The rest of the code is the same as in the first version of Cart\n",
    "    //TODO (copy the previous code)\n",
    "    \n",
    "    @Override\n",
    "    public void printCart(){\n",
    "        if(lines instanceof HashSet) println(\"Lines is a HashSet\");\n",
    "        if(lines instanceof TreeSet) println(\"Lines is a TreeSet\");\n",
    "        String separator = \"\\\\|\";\n",
    "        System.out.printf(\"%6s - %25s | %8s | %8s | %14s\\n\", \"ID\", \"Name\", \n",
    "                            \"Price\", \"Amount\", \"Total Price (€)\");\n",
    "        for(Triplet<Product,Integer,Float> line: lines){\n",
    "            //Position 0 contains ID Product as String\n",
    "            //Position 1 contains product name as String\n",
    "            //Position 2 contains product price (per unit) as String\n",
    "            //Position 3 contains Integer (amount) as String\n",
    "            //Position 4 contains Float (total price) as String\n",
    "            String[] lineArr = line.toString().split(separator);\n",
    "            \n",
    "            System.out.format(\"%6s - %25s | %8s | %8s | %14s\\n\", lineArr[0], lineArr[1], \n",
    "                                 lineArr[2], lineArr[3], lineArr[4]);              \n",
    "        }        \n",
    "        DecimalFormat df = new DecimalFormat(\"#.##\");\n",
    "        df.setRoundingMode(RoundingMode.CEILING);\n",
    "        System.out.format(\"%63s %8s€\", \"Total de la comanda:\", df.format(this.total));\n",
    "    }\n",
    "}"
   ]
  },
  {
   "cell_type": "markdown",
   "metadata": {},
   "source": [
    "Ara, heu de crear la classe ``CartDI``, que **esten** la nova classe ``Cart`` de manera que:\n",
    "\n",
    "* Has de crear un constructor de la classe ``CartDI`` que admeti un únic paràmetre de tipus ``Set``. Aquest constructor s'utilitzarà en crear un nou objecte ``ICart`` per a passar-li la implementació de ``Set`` que es desitgi en cada moment. Aquest nou objecte caldrà passar-lo a la superclasse usant el mètode _super()_.\n",
    "\n",
    "_**Nota**: la creació de la classe ``CartDI`` no és estrictament necessària. Podríem usar la nova classe ``Cart`` (modificada amb DI, és a dir, amb el nou constructor d'un paràmetre). Usem ``CartDI`` únicament per motius didàctics._\n",
    "\n",
    "Escriu la classe ``CartDI`` a continuació (són 2 o 3 línies de codi - només cal afegir-li el constructor):"
   ]
  },
  {
   "cell_type": "code",
   "execution_count": null,
   "metadata": {},
   "outputs": [],
   "source": [
    "class CartDI extends Cart { \n",
    "    //TODO\n",
    "    //Constructor DI\n",
    "    //Add the 1 parameter constructor, which will call the super() method\n",
    "}"
   ]
  },
  {
   "cell_type": "markdown",
   "metadata": {},
   "source": [
    "Amb la petita modificació feta a la classe ``Cart`` ara podem **injectar** la implementació que vulguem a la propietat ``lines``. Per exemple:"
   ]
  },
  {
   "cell_type": "code",
   "execution_count": null,
   "metadata": {},
   "outputs": [],
   "source": [
    "//Estem injectant un HashSet (Set no ordenat) al nou CartDI\n",
    "ICart cart = fillCart(new CartDI(new HashSet<>()));\n",
    "cart.printCart();"
   ]
  },
  {
   "cell_type": "markdown",
   "metadata": {},
   "source": [
    "En aquest darrer exemple, les línies del carret **podran aparèixer en qualsevol ordre**, perquè hem injectat un ``HashSet``."
   ]
  },
  {
   "cell_type": "markdown",
   "metadata": {},
   "source": [
    "## Setè pas: ``TreeSet`` i implementació de la interfície ``Comparable``"
   ]
  },
  {
   "cell_type": "markdown",
   "metadata": {},
   "source": [
    "Però **què passa si volem injectar una implementació de ``Set`` que ordeni els seus elements**? Proveu d'injectar un ``TreeSet`` (implementació de ``Set`` que manté els elements ordenats):"
   ]
  },
  {
   "cell_type": "code",
   "execution_count": null,
   "metadata": {},
   "outputs": [],
   "source": [
    "//Estem injectant un TreeSet (Set ordenat) al nou CartDI\n",
    "ICart cart = fillCart(new CartDI(new TreeSet<>()));\n",
    "cart.printCart();"
   ]
  },
  {
   "cell_type": "markdown",
   "metadata": {},
   "source": [
    "En aquest cas, ens ha d'apareixer la següent excepció:\n",
    "\n",
    "```\n",
    "java.lang.ClassCastException: class REPL.$JShell$16$Triplet cannot be cast to class java.lang.Comparable (REPL.$JShell$16$Triplet is in unnamed module of loader jdk.jshell.execution.DefaultLoaderDelegate$RemoteClassLoader @954b04f; java.lang.Comparable is in module java.base of loader 'bootstrap')\n",
    "\tat java.base/java.util.TreeMap.compare(TreeMap.java:1291)\n",
    "\tat java.base/java.util.TreeMap.put(TreeMap.java:536)\n",
    "\tat java.base/java.util.TreeSet.add(TreeSet.java:255)\n",
    "\tat Cart.addProduct(#19:1)\n",
    "\tat Cart.addProduct(#19:1)\n",
    "\tat .fillCart(#80:2)\n",
    "\tat .(#38:2)\n",
    "```\n",
    "\n",
    "Per què? (escriu la teva resposta a la següent cel·la)\n"
   ]
  },
  {
   "cell_type": "markdown",
   "metadata": {},
   "source": [
    "Perquè a la classe ``Cart`` estem ficant els elements ``Triplet`` dins d'una ``TreeSet``, que és una col·lecció ordenada, i com que ``Triplet`` **no implementa la interfície ``Comparable``** (o la interfície ``Comparator``) no hi ha manera de posar-los en ordre."
   ]
  },
  {
   "cell_type": "markdown",
   "metadata": {},
   "source": [
    "### Exercici extra (setè pas): Esteneu la classe genèrica ``Triplet`` de manera que la classe filla ``Line`` implementi la interfície ``Comparable`` i feu que ordeni els triplets segons:\n",
    "\n",
    "* En primer lloc, segons la categoria a la que pertany el producte (*).\n",
    "* Si dues línies contenen productes de la mateixa categoria, l'ordenació es farà segons el preu individual del producte.\n",
    "* Si dos productes de la mateixa categoria tenen el mateix preu, l'ordenació serà l'ordre alfabètic ascendent del nom del producte.\n",
    "* Finalment, el darrer criteri serà: les línies s'ordenaran segons la quantitat d'unitats de producte que conté la línia (**de major a menor**).\n",
    "\n",
    "(*) Ho heu de fer obtenint l'``String`` corresponent a cada categoria, i usant l'ordenació per defecte dels strings. Per a obtenir un string d'una constant d'un enum podeu usar el mètode ``name()``. Exemple:\n",
    "\n",
    "```\n",
    "String books = Category.BOOKS.name();\n",
    "System.out.println(books);\n",
    "Will print: BOOKS\n",
    "```\n",
    "\n",
    "### Per a aconseguir-ho, heu d'implementar la interfície ``Comparable`` a la classe ``Line``, que esten ``Triplet``\n",
    "\n",
    "Feu-ho a continuació, completant on posa //TODO:"
   ]
  },
  {
   "cell_type": "code",
   "execution_count": null,
   "metadata": {},
   "outputs": [],
   "source": [
    "class Line<T,T1,T2> extends Triplet<T,T1,T2> implements Comparable {\n",
    "\n",
    "    /*\n",
    "    * This is where we write the logic to sort.\n",
    "    */\n",
    "    @Override\n",
    "    public int compareTo(Object line) {\n",
    "     /* \n",
    "      * compareTo should return \n",
    "      * < 0 if this(keyword) is supposed to be less than param object, \n",
    "      * > 0 if this is supposed to be greater than object \n",
    "      * and 0 if they are supposed to be equal\n",
    "      */\n",
    "        if (line == this) return 0;\n",
    "        if (!(line instanceof Line)) {\n",
    "            return -1;\n",
    "        }\n",
    "        Line l = (Line)line;\n",
    "        \n",
    "        int last = 0;\n",
    "        if(this.getT() instanceof Product && l.getT() instanceof Product){\n",
    "            \n",
    "            Product thisProduct = (Product)this.getT();\n",
    "            Product paramProduct = (Product)l.getT();\n",
    "            \n",
    "            if(thisProduct == paramProduct) return 0; //(**)\n",
    "            \n",
    "            //Ordenem per categoria\n",
    "            //TODO\n",
    "            \n",
    "            //Ordenem per preu\n",
    "            //TODO\n",
    "            \n",
    "            //Ordenem per nom\n",
    "            //TODO\n",
    "            \n",
    "            //Ordenem per quantitat d'unitats de producte a la línia\n",
    "            //TODO\n",
    "        }\n",
    "        return last;\n",
    "    }\n",
    "}\n"
   ]
  },
  {
   "cell_type": "markdown",
   "metadata": {},
   "source": [
    "_(**) què passa si no posem aquesta línia de codi?\n",
    "La resposta passa per entendre les diferències entre ``HashSet`` i ``TreeSet``:_\n",
    "\n",
    "[HashSet vs TreeSet](https://www.geeksforgeeks.org/hashset-vs-treeset-in-java/)"
   ]
  },
  {
   "cell_type": "markdown",
   "metadata": {},
   "source": [
    "## Vuitè pas: reescriure ``Cart`` i  ``CartDI``  perquè usin ``Line``\n",
    "\n",
    "Modifiqueu les classes ``Cart``i ``CartDI`` perquè usin ``Line`` enlloc de ``Triplet``.\n",
    "\n",
    "D'aquesta manera podrem injectar un ``TreeSet``, doncs ``Line`` implementa ``Comparable`` i les línies es podran ordenar.\n",
    "\n",
    "Escriu a continuació la versió modificada de ``Cart``:"
   ]
  },
  {
   "cell_type": "code",
   "execution_count": null,
   "metadata": {},
   "outputs": [],
   "source": [
    "import java.text.DecimalFormat;\n",
    "\n",
    "//Classe Cart modificada, amb Dependency Injection (DI) i usant Line enlloc de Triplet\n",
    "class Cart implements ICart{\n",
    "    //Refactor Cart with Line instead of Triplet\n",
    "    //TODO\n",
    "}"
   ]
  },
  {
   "cell_type": "markdown",
   "metadata": {},
   "source": [
    "Escriu a continuació la versió amb ``Line`` de ``CartDI``:"
   ]
  },
  {
   "cell_type": "code",
   "execution_count": null,
   "metadata": {},
   "outputs": [],
   "source": [
    "class CartDI extends Cart {    \n",
    "    //Refactor CartDI with Line instead of Triplet\n",
    "    //TODO\n",
    "}"
   ]
  },
  {
   "cell_type": "markdown",
   "metadata": {},
   "source": [
    "## Novè pas: comproveu que funciona\n",
    "\n",
    "Executeu el següent codi. Haureu d'obtenir, ara sí de forma ordenada sempre de la mateixa manera, el següent carret:\n",
    "\n",
    "```\n",
    "Lines is a TreeSet\n",
    "    ID -                      Name |    Price |   Amount | Total Price (€)\n",
    "    p9 -       Learn Advanced Java |     33.9 |        2 |           67.8\n",
    "    p3 -                Learn Java |     33.9 |        2 |           67.8\n",
    "   p12 -  Data Science Masterclass |     39.5 |        3 |          118.5\n",
    "    p6 -    Data Science made easy |     39.5 |        2 |           79.0\n",
    "   p10 -                  RAM 16Gb |     60.2 |        1 |           60.2\n",
    "    p4 -                  RAM 32Gb |    110.6 |        2 |          221.2\n",
    "    p7 -                   Desktop |    305.0 |        3 |          915.0\n",
    "    p1 -                    Laptop |    305.0 |        1 |          305.0\n",
    "    p2 -                    Banana |      0.2 |       17 |            3.4\n",
    "    p8 -                     Peach |      0.4 |        6 |            2.4\n",
    "   p11 -                   Ravioli |      3.4 |        2 |            6.8\n",
    "    p5 -                 Canneloni |      7.0 |        3 |           21.0\n",
    "                                           Total de la comanda:   1868.1€\n",
    "```"
   ]
  },
  {
   "cell_type": "code",
   "execution_count": null,
   "metadata": {},
   "outputs": [],
   "source": [
    "ICart fillCart2(ICart cart){    \n",
    "    cart.addProduct(p2); //Afegim una unitat del producte p2\n",
    "    cart.addProduct(p2,3); //Afegim 6 unitats del producte p2\n",
    "    cart.addProduct(p2,10); //Afegim 10 unitats del producte p2\n",
    "    cart.addProduct(p4,2); //Afegim 2 unitats del producte p4\n",
    "    cart.addProduct(p1); //Afegim una unitat del producte p1\n",
    "    cart.addProduct(p3,2); //Afegim 2 unitats del producte p3\n",
    "    cart.addProduct(p5,3); //Afegim 3 unitats del producte p5\n",
    "    cart.addProduct(p6); //Afegim una unitat del producte p6\n",
    "    cart.addProduct(p6,6); //Afegim una unitat del producte p6\n",
    "    return cart;\n",
    "}\n",
    "\n",
    "Product p7 = new Product(\"p7\", Category.COMPUTERS);\n",
    "p7.setName(\"Desktop\");\n",
    "p7.setPrice(305.0f);\n",
    "\n",
    "Product p8 = new Product(\"p8\", Category.FOOD);\n",
    "p8.setName(\"Peach\");\n",
    "p8.setPrice(0.40f);\n",
    "\n",
    "Product p9 = new Product(\"p9\", Category.BOOKS);\n",
    "p9.setName(\"Learn Advanced Java\");\n",
    "p9.setPrice(33.9f);\n",
    "\n",
    "Product p10 = new Product(\"p10\", Category.COMPUTERS);\n",
    "p10.setName(\"RAM 16Gb\");\n",
    "p10.setPrice(60.2f);\n",
    "\n",
    "Product p11 = new Product(\"p11\", Category.FOOD);\n",
    "p11.setName(\"Ravioli\");\n",
    "p11.setPrice(3.4f);\n",
    "\n",
    "Product p12 = new Product(\"p12\", Category.BOOKS);\n",
    "p12.setName(\"Data Science Masterclass\");\n",
    "p12.setPrice(39.5f);\n",
    "\n",
    "ICart fillCartMore(ICart cart){  \n",
    "    ICart cart2 = fillCart(cart);\n",
    "    cart2.addProduct(p7); //Afegim una unitat del producte p7\n",
    "    cart2.addProduct(p7,2); //Afegim dues unitats del producte p7\n",
    "    cart2.addProduct(p8,6); //Afegim 6 unitats del producte p8\n",
    "    cart2.addProduct(p9,2); //Afegim 2 unitats del producte p9\n",
    "    cart2.addProduct(p10); //Afegim una unitat del producte p10\n",
    "    cart2.addProduct(p11,2); //Afegim 2 unitats del producte p11\n",
    "    cart2.addProduct(p12,3); //Afegim 3 unitats del producte p12\n",
    "    return cart2;\n",
    "}\n",
    "CartDI cartDi = new CartDI(new TreeSet<>());\n",
    "ICart cart = fillCartMore(cartDi);"
   ]
  },
  {
   "cell_type": "code",
   "execution_count": null,
   "metadata": {},
   "outputs": [],
   "source": [
    "cart.printCart();"
   ]
  },
  {
   "cell_type": "code",
   "execution_count": null,
   "metadata": {},
   "outputs": [],
   "source": [
    "\n",
    "\n"
   ]
  },
  {
   "cell_type": "code",
   "execution_count": null,
   "metadata": {},
   "outputs": [],
   "source": []
  },
  {
   "cell_type": "code",
   "execution_count": null,
   "metadata": {},
   "outputs": [],
   "source": []
  },
  {
   "cell_type": "code",
   "execution_count": null,
   "metadata": {},
   "outputs": [],
   "source": []
  }
 ],
 "metadata": {
  "kernelspec": {
   "display_name": "Java",
   "language": "java",
   "name": "java"
  },
  "language_info": {
   "codemirror_mode": "java",
   "file_extension": ".jshell",
   "mimetype": "text/x-java-source",
   "name": "Java",
   "pygments_lexer": "java",
   "version": "11.0.9+11-Ubuntu-0ubuntu1.20.04"
  }
 },
 "nbformat": 4,
 "nbformat_minor": 4
}
